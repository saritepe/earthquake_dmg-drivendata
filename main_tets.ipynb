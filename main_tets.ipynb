{
 "cells": [
  {
   "cell_type": "code",
   "execution_count": 2,
   "metadata": {},
   "outputs": [],
   "source": [
    "import os\n",
    "import sys\n"
   ]
  },
  {
   "cell_type": "code",
   "execution_count": null,
   "metadata": {},
   "outputs": [],
   "source": [
    "src_dir = os.path.join(os.getcwd(), 'src')\n",
    "sys.path.append(src_dir)"
   ]
  },
  {
   "cell_type": "code",
   "execution_count": 3,
   "metadata": {},
   "outputs": [
    {
     "data": {
      "text/plain": [
       "['C:\\\\Users\\\\usaritepe\\\\Desktop\\\\Projects\\\\_playground\\\\earthquake_dmg-drivendata-20201006',\n",
       " 'C:\\\\Users\\\\usaritepe\\\\Anaconda3\\\\envs\\\\earthquake_dmg\\\\python38.zip',\n",
       " 'C:\\\\Users\\\\usaritepe\\\\Anaconda3\\\\envs\\\\earthquake_dmg\\\\DLLs',\n",
       " 'C:\\\\Users\\\\usaritepe\\\\Anaconda3\\\\envs\\\\earthquake_dmg\\\\lib',\n",
       " 'C:\\\\Users\\\\usaritepe\\\\Anaconda3\\\\envs\\\\earthquake_dmg',\n",
       " '',\n",
       " 'C:\\\\Users\\\\usaritepe\\\\AppData\\\\Roaming\\\\Python\\\\Python38\\\\site-packages',\n",
       " 'C:\\\\Users\\\\usaritepe\\\\Anaconda3\\\\envs\\\\earthquake_dmg\\\\lib\\\\site-packages',\n",
       " 'C:\\\\Users\\\\usaritepe\\\\Anaconda3\\\\envs\\\\earthquake_dmg\\\\lib\\\\site-packages\\\\win32',\n",
       " 'C:\\\\Users\\\\usaritepe\\\\Anaconda3\\\\envs\\\\earthquake_dmg\\\\lib\\\\site-packages\\\\win32\\\\lib',\n",
       " 'C:\\\\Users\\\\usaritepe\\\\Anaconda3\\\\envs\\\\earthquake_dmg\\\\lib\\\\site-packages\\\\Pythonwin',\n",
       " 'C:\\\\Users\\\\usaritepe\\\\Anaconda3\\\\envs\\\\earthquake_dmg\\\\lib\\\\site-packages\\\\IPython\\\\extensions',\n",
       " 'C:\\\\Users\\\\usaritepe\\\\.ipython']"
      ]
     },
     "execution_count": 3,
     "metadata": {},
     "output_type": "execute_result"
    }
   ],
   "source": [
    "sys.path"
   ]
  },
  {
   "cell_type": "code",
   "execution_count": null,
   "metadata": {},
   "outputs": [],
   "source": [
    "from src.data.get_config import get_config"
   ]
  },
  {
   "cell_type": "code",
   "execution_count": null,
   "metadata": {},
   "outputs": [],
   "source": [
    "get_config('file_paths.yaml', 'train_labels')"
   ]
  },
  {
   "cell_type": "code",
   "execution_count": 4,
   "metadata": {},
   "outputs": [],
   "source": [
    "from src.data.get_cat_cols import get_cat_cols"
   ]
  },
  {
   "cell_type": "code",
   "execution_count": 5,
   "metadata": {},
   "outputs": [
    {
     "data": {
      "text/plain": [
       "['geo_level_1_id',\n",
       " 'geo_level_2_id',\n",
       " 'geo_level_3_id',\n",
       " 'land_surface_condition',\n",
       " 'foundation_type',\n",
       " 'roof_type',\n",
       " 'ground_floor_type',\n",
       " 'other_floor_type',\n",
       " 'position',\n",
       " 'plan_configuration',\n",
       " 'legal_ownership_status']"
      ]
     },
     "execution_count": 5,
     "metadata": {},
     "output_type": "execute_result"
    }
   ],
   "source": [
    "get_cat_cols()"
   ]
  },
  {
   "cell_type": "code",
   "execution_count": null,
   "metadata": {},
   "outputs": [],
   "source": []
  }
 ],
 "metadata": {
  "kernelspec": {
   "display_name": "Python 3",
   "language": "python",
   "name": "python3"
  },
  "language_info": {
   "codemirror_mode": {
    "name": "ipython",
    "version": 3
   },
   "file_extension": ".py",
   "mimetype": "text/x-python",
   "name": "python",
   "nbconvert_exporter": "python",
   "pygments_lexer": "ipython3",
   "version": "3.8.5"
  }
 },
 "nbformat": 4,
 "nbformat_minor": 4
}
