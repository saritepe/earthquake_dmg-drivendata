{
 "cells": [
  {
   "cell_type": "code",
   "execution_count": 16,
   "metadata": {},
   "outputs": [],
   "source": [
    "from sklearn import decomposition\n",
    "import pandas as pd\n",
    "\n",
    "import sys\n",
    "\n",
    "sys.path.append(\"..\")\n",
    "\n",
    "from src.utils.get_csv_files import get_csv_files"
   ]
  },
  {
   "cell_type": "code",
   "execution_count": 6,
   "metadata": {},
   "outputs": [],
   "source": [
    "path = '../data/interim/'\n",
    "name_list = ['X_train_sca', 'X_test_sca', 'y_train', 'y_test'] "
   ]
  },
  {
   "cell_type": "code",
   "execution_count": 7,
   "metadata": {},
   "outputs": [],
   "source": [
    "files_dict = get_csv_files(path, name_list)"
   ]
  },
  {
   "cell_type": "code",
   "execution_count": 12,
   "metadata": {},
   "outputs": [
    {
     "data": {
      "text/plain": [
       "PCA(n_components=0.9)"
      ]
     },
     "execution_count": 12,
     "metadata": {},
     "output_type": "execute_result"
    }
   ],
   "source": [
    "pca = PCA(n_components=0.90)\n",
    "pca.fit(files_dict['X_train_sca'], files_dict['y_train'])"
   ]
  },
  {
   "cell_type": "code",
   "execution_count": 15,
   "metadata": {},
   "outputs": [
    {
     "name": "stdout",
     "output_type": "stream",
     "text": [
      "[0.05774252 0.03699772 0.02811238 0.02630809 0.02469235 0.02407888\n",
      " 0.0223984  0.02228004 0.02046039 0.01969398 0.01911175 0.01767482\n",
      " 0.01697183 0.01653967 0.01516692 0.01460319 0.01441278 0.01404745\n",
      " 0.01388812 0.01361742 0.01348858 0.01337992 0.01318151 0.01304884\n",
      " 0.01297322 0.01292717 0.01284188 0.01280865 0.01274284 0.01268586\n",
      " 0.01266555 0.01256441 0.01253345 0.01251132 0.01249524 0.01247615\n",
      " 0.01243965 0.01236159 0.01231625 0.01224152 0.01210801 0.01204591\n",
      " 0.0120246  0.01197617 0.0118661  0.01178804 0.01172266 0.01154449\n",
      " 0.01153704 0.01139715 0.01131021 0.01120502 0.01110787 0.01093276\n",
      " 0.0108271  0.01053747 0.01046674 0.01029399 0.01017702]\n"
     ]
    }
   ],
   "source": [
    "print(pca.explained_variance_ratio_)"
   ]
  },
  {
   "cell_type": "code",
   "execution_count": 14,
   "metadata": {},
   "outputs": [],
   "source": [
    "X_train_pca = pca.transform(files_dict['X_train_sca'])\n",
    "X_test_pca = pca.transform(files_dict['X_test_sca'])"
   ]
  },
  {
   "cell_type": "code",
   "execution_count": 22,
   "metadata": {},
   "outputs": [],
   "source": [
    "pd.DataFrame(X_train_pca).to_csv('../data/interim/X_train_pca.csv', sep = ';', index = False)\n",
    "pd.DataFrame(X_test_pca).to_csv('../data/interim/X_test_pca.csv', sep = ';', index = False)"
   ]
  },
  {
   "cell_type": "code",
   "execution_count": 18,
   "metadata": {},
   "outputs": [],
   "source": [
    " def decompositioning(n_components, decomposition_name):\n",
    "    return getattr(decomposition, decomposition_name)(n_components = n_components)"
   ]
  },
  {
   "cell_type": "code",
   "execution_count": 20,
   "metadata": {},
   "outputs": [
    {
     "data": {
      "text/plain": [
       "PCA(n_components=0.9)"
      ]
     },
     "execution_count": 20,
     "metadata": {},
     "output_type": "execute_result"
    }
   ],
   "source": [
    "decompositioning(0.9, 'PCA')"
   ]
  },
  {
   "cell_type": "code",
   "execution_count": null,
   "metadata": {},
   "outputs": [],
   "source": []
  }
 ],
 "metadata": {
  "kernelspec": {
   "display_name": "Python 3",
   "language": "python",
   "name": "python3"
  },
  "language_info": {
   "codemirror_mode": {
    "name": "ipython",
    "version": 3
   },
   "file_extension": ".py",
   "mimetype": "text/x-python",
   "name": "python",
   "nbconvert_exporter": "python",
   "pygments_lexer": "ipython3",
   "version": "3.8.5"
  }
 },
 "nbformat": 4,
 "nbformat_minor": 1
}