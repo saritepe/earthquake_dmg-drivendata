{
 "cells": [
  {
   "cell_type": "code",
   "execution_count": 12,
   "metadata": {},
   "outputs": [],
   "source": [
    "import category_encoders\n",
    "import pandas as pd\n",
    "\n",
    "import sys\n",
    "\n",
    "sys.path.append(\"..\")\n",
    "\n",
    "from src.utils.get_csv_files import get_csv_files \n",
    "from src.data.categorize_data import get_cat_cols\n",
    "from src.utils.get_config import get_config"
   ]
  },
  {
   "cell_type": "code",
   "execution_count": 2,
   "metadata": {},
   "outputs": [],
   "source": [
    "path = '../data/interim/'\n",
    "name_list = ['X_train', 'X_test', 'y_train', 'y_test'] "
   ]
  },
  {
   "cell_type": "code",
   "execution_count": 3,
   "metadata": {},
   "outputs": [],
   "source": [
    "files_dict = get_csv_files(path, name_list)"
   ]
  },
  {
   "cell_type": "code",
   "execution_count": 4,
   "metadata": {},
   "outputs": [],
   "source": [
    "method_to_call = getattr(category_encoders, 'TargetEncoder')\n",
    "encoder = method_to_call()"
   ]
  },
  {
   "cell_type": "code",
   "execution_count": 5,
   "metadata": {},
   "outputs": [
    {
     "data": {
      "text/plain": [
       "TargetEncoder()"
      ]
     },
     "execution_count": 5,
     "metadata": {},
     "output_type": "execute_result"
    }
   ],
   "source": [
    "encoder"
   ]
  },
  {
   "cell_type": "code",
   "execution_count": 6,
   "metadata": {},
   "outputs": [],
   "source": [
    "cat_cols = get_cat_cols()"
   ]
  },
  {
   "cell_type": "code",
   "execution_count": 7,
   "metadata": {},
   "outputs": [
    {
     "data": {
      "text/plain": [
       "TargetEncoder()"
      ]
     },
     "execution_count": 7,
     "metadata": {},
     "output_type": "execute_result"
    }
   ],
   "source": [
    "encoder"
   ]
  },
  {
   "cell_type": "code",
   "execution_count": 8,
   "metadata": {},
   "outputs": [
    {
     "data": {
      "text/plain": [
       "TargetEncoder()"
      ]
     },
     "execution_count": 8,
     "metadata": {},
     "output_type": "execute_result"
    }
   ],
   "source": [
    "category_encoders.TargetEncoder()"
   ]
  },
  {
   "cell_type": "code",
   "execution_count": 9,
   "metadata": {},
   "outputs": [
    {
     "data": {
      "text/plain": [
       "TargetEncoder(cols=['geo_level_1_id', 'geo_level_2_id', 'geo_level_3_id',\n",
       "                    'land_surface_condition', 'foundation_type', 'roof_type',\n",
       "                    'ground_floor_type', 'other_floor_type', 'position',\n",
       "                    'plan_configuration', 'legal_ownership_status'])"
      ]
     },
     "execution_count": 9,
     "metadata": {},
     "output_type": "execute_result"
    }
   ],
   "source": [
    "getattr(category_encoders, 'TargetEncoder')(cols = cat_cols)"
   ]
  },
  {
   "cell_type": "code",
   "execution_count": 10,
   "metadata": {},
   "outputs": [],
   "source": [
    "def select_encoder(cols, encoder_name = 'BinaryEncoder'):\n",
    "    return getattr(category_encoders, encoder_name)(cols = cols)"
   ]
  },
  {
   "cell_type": "code",
   "execution_count": 11,
   "metadata": {},
   "outputs": [],
   "source": [
    "encoder = select_encoder(cat_cols, encoder_name = 'TargetEncoder')"
   ]
  },
  {
   "cell_type": "code",
   "execution_count": 13,
   "metadata": {},
   "outputs": [
    {
     "data": {
      "text/plain": [
       "['BackwardDifferenceEncoder',\n",
       " 'BaseNEncoder',\n",
       " 'BinaryEncoder',\n",
       " 'CatBoostEncoder',\n",
       " 'CountEncoder',\n",
       " 'GLMMEncoder',\n",
       " 'HashingEncoder',\n",
       " 'HelmertEncoder',\n",
       " 'JamesSteinEncoder',\n",
       " 'LeaveOneOutEncoder',\n",
       " 'MEstimateEncoder',\n",
       " 'OneHotEncoder',\n",
       " 'OrdinalEncoder',\n",
       " 'SumEncoder',\n",
       " 'PolynomialEncoder',\n",
       " 'TargetEncoder',\n",
       " 'WOEEncoder']"
      ]
     },
     "execution_count": 13,
     "metadata": {},
     "output_type": "execute_result"
    }
   ],
   "source": [
    "get_config('global_parameters.yaml', 'encoder_array')"
   ]
  },
  {
   "cell_type": "code",
   "execution_count": 21,
   "metadata": {},
   "outputs": [],
   "source": [
    "encoder = select_encoder(cat_cols, encoder_name = 'BinaryEncoder')"
   ]
  },
  {
   "cell_type": "code",
   "execution_count": 22,
   "metadata": {},
   "outputs": [
    {
     "name": "stderr",
     "output_type": "stream",
     "text": [
      "C:\\Users\\usaritepe\\Anaconda3\\envs\\earthquake_dmg\\lib\\site-packages\\category_encoders\\utils.py:21: FutureWarning: is_categorical is deprecated and will be removed in a future version.  Use is_categorical_dtype instead\n",
      "  elif pd.api.types.is_categorical(cols):\n"
     ]
    },
    {
     "data": {
      "text/plain": [
       "BinaryEncoder(cols=['geo_level_1_id', 'geo_level_2_id', 'geo_level_3_id',\n",
       "                    'land_surface_condition', 'foundation_type', 'roof_type',\n",
       "                    'ground_floor_type', 'other_floor_type', 'position',\n",
       "                    'plan_configuration', 'legal_ownership_status'])"
      ]
     },
     "execution_count": 22,
     "metadata": {},
     "output_type": "execute_result"
    }
   ],
   "source": [
    "encoder.fit(files_dict['X_train'], files_dict['y_train'])"
   ]
  },
  {
   "cell_type": "code",
   "execution_count": 23,
   "metadata": {},
   "outputs": [],
   "source": [
    "X_train_enc = encoder.transform(files_dict['X_train'])\n",
    "X_test_enc = encoder.transform(files_dict['X_test'])"
   ]
  },
  {
   "cell_type": "code",
   "execution_count": 24,
   "metadata": {},
   "outputs": [],
   "source": [
    "X_train_enc.to_csv('../data/interim/X_train_enc.csv', sep = ';', index = False)\n",
    "X_test_enc.to_csv('../data/interim/X_test_enc.csv', sep = ';', index = False)"
   ]
  }
 ],
 "metadata": {
  "kernelspec": {
   "display_name": "Python 3",
   "language": "python",
   "name": "python3"
  },
  "language_info": {
   "codemirror_mode": {
    "name": "ipython",
    "version": 3
   },
   "file_extension": ".py",
   "mimetype": "text/x-python",
   "name": "python",
   "nbconvert_exporter": "python",
   "pygments_lexer": "ipython3",
   "version": "3.8.5"
  }
 },
 "nbformat": 4,
 "nbformat_minor": 4
}
