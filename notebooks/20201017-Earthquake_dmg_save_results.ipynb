{
 "cells": [
  {
   "cell_type": "code",
   "execution_count": 1,
   "metadata": {},
   "outputs": [],
   "source": [
    "from pymongo import MongoClient\n",
    "import os\n",
    "from dotenv import load_dotenv, find_dotenv"
   ]
  },
  {
   "cell_type": "code",
   "execution_count": 2,
   "metadata": {},
   "outputs": [],
   "source": [
    "import sys\n",
    "\n",
    "sys.path.append(\"..\")"
   ]
  },
  {
   "cell_type": "code",
   "execution_count": 3,
   "metadata": {},
   "outputs": [],
   "source": [
    "from src.utils.get_config import get_config"
   ]
  },
  {
   "cell_type": "code",
   "execution_count": 4,
   "metadata": {},
   "outputs": [],
   "source": [
    "# find .env automagically by walking up directories until it's found\n",
    "dotenv_path = find_dotenv()\n",
    "\n",
    "# load up the entries as environment variables\n",
    "load_dotenv(dotenv_path)\n",
    "\n",
    "database_url = os.environ.get(\"MONGO_DB_URL\")"
   ]
  },
  {
   "cell_type": "code",
   "execution_count": 5,
   "metadata": {},
   "outputs": [],
   "source": [
    "class Connect(object):\n",
    "    @staticmethod\n",
    "    def get_connection():\n",
    "        return MongoClient(database_url)"
   ]
  },
  {
   "cell_type": "code",
   "execution_count": 6,
   "metadata": {},
   "outputs": [],
   "source": [
    "connection = Connect.get_connection()"
   ]
  },
  {
   "cell_type": "code",
   "execution_count": 9,
   "metadata": {},
   "outputs": [],
   "source": [
    "project_name = get_config('project_information.yaml', 'project_name')\n",
    "project_type = get_config('project_information.yaml', 'project_type')\n",
    "col_name = get_config('project_information.yaml', 'col_name')\n",
    "score = 5\n",
    "estimator = 'deneme'\n",
    "score_func = 'deneme'\n",
    "test_score = 5\n",
    "created_on = 'deneme'"
   ]
  },
  {
   "cell_type": "code",
   "execution_count": null,
   "metadata": {},
   "outputs": [],
   "source": [
    "db_name = project_name\n",
    "db = getattr(connection, project_name)\n",
    "col = getattr(db, col_name) "
   ]
  },
  {
   "cell_type": "code",
   "execution_count": null,
   "metadata": {},
   "outputs": [],
   "source": [
    "log_dict = dict()\n",
    "log_dict['project_name'] = project_name\n",
    "log_dict['project_type'] = project_type\n",
    "log_dict['estimator'] = estimator\n",
    "log_dict['score_func'] = score_func\n",
    "log_dict['score'] = score\n",
    "log_dict['test_score'] = test_score\n",
    "log_dict['created_on'] = created_on\n",
    "\n",
    "\n",
    "inserted_value = col.insert_one(log_dict)"
   ]
  },
  {
   "cell_type": "code",
   "execution_count": null,
   "metadata": {},
   "outputs": [],
   "source": [
    "def save_results_to_mongo(connection, estimator, score_func, score, test_score, created_on):\n",
    "    \n",
    "    project_name = get_config('project_information.yaml', 'project_name')\n",
    "    project_type = get_config('project_information.yaml', 'project_type')\n",
    "    col_name = get_config('project_information.yaml', 'col_name')\n",
    "    \n",
    "    db = getattr(connection, project_name)\n",
    "    col = getattr(db, col_name) \n",
    "    \n",
    "    log_dict = dict()\n",
    "    log_dict['project_name'] = project_name\n",
    "    log_dict['project_type'] = project_type\n",
    "    log_dict['estimator'] = estimator\n",
    "    log_dict['score_func'] = score_func\n",
    "    log_dict['score'] = score\n",
    "    log_dict['test_score'] = test_score\n",
    "    log_dict['created_on'] = created_on\n",
    "    \n",
    "    return col.insert_one(log_dict)"
   ]
  },
  {
   "cell_type": "code",
   "execution_count": null,
   "metadata": {},
   "outputs": [],
   "source": [
    "save_results_to_mongo(connection, estimator, score_func, score, test_score, created_on)"
   ]
  },
  {
   "cell_type": "code",
   "execution_count": 7,
   "metadata": {},
   "outputs": [],
   "source": [
    "from src.utils.save_to_mongo import save_to_mongo"
   ]
  },
  {
   "cell_type": "code",
   "execution_count": 10,
   "metadata": {},
   "outputs": [
    {
     "data": {
      "text/plain": [
       "<pymongo.results.InsertOneResult at 0x29b7128a7c0>"
      ]
     },
     "execution_count": 10,
     "metadata": {},
     "output_type": "execute_result"
    }
   ],
   "source": [
    "save_to_mongo(estimator, score_func, score, test_score, \"20201018\")"
   ]
  },
  {
   "cell_type": "code",
   "execution_count": null,
   "metadata": {},
   "outputs": [],
   "source": []
  }
 ],
 "metadata": {
  "kernelspec": {
   "display_name": "Python 3",
   "language": "python",
   "name": "python3"
  },
  "language_info": {
   "codemirror_mode": {
    "name": "ipython",
    "version": 3
   },
   "file_extension": ".py",
   "mimetype": "text/x-python",
   "name": "python",
   "nbconvert_exporter": "python",
   "pygments_lexer": "ipython3",
   "version": "3.8.5"
  }
 },
 "nbformat": 4,
 "nbformat_minor": 4
}
