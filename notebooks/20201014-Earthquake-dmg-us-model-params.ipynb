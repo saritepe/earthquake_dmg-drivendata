{
 "cells": [
  {
   "cell_type": "code",
   "execution_count": 13,
   "metadata": {},
   "outputs": [],
   "source": [
    "import numpy as np"
   ]
  },
  {
   "cell_type": "code",
   "execution_count": 14,
   "metadata": {},
   "outputs": [],
   "source": [
    "param_criterion = ['gini', 'entropy']"
   ]
  },
  {
   "cell_type": "code",
   "execution_count": 15,
   "metadata": {},
   "outputs": [],
   "source": [
    "param_splitter = ['best', 'random']"
   ]
  },
  {
   "cell_type": "code",
   "execution_count": 16,
   "metadata": {},
   "outputs": [],
   "source": [
    "param_max_depth = [int(x) for x in np.linspace(10, 200, num = 40)]"
   ]
  },
  {
   "cell_type": "code",
   "execution_count": 21,
   "metadata": {},
   "outputs": [],
   "source": [
    "param_min_samples_split = [int(x) for x in np.linspace(2, 30, num = 10)]"
   ]
  },
  {
   "cell_type": "code",
   "execution_count": 17,
   "metadata": {},
   "outputs": [],
   "source": [
    "param_min_samples_leaf = [int(x) for x in np.linspace(1, 30, num = 10)]"
   ]
  },
  {
   "cell_type": "code",
   "execution_count": 18,
   "metadata": {},
   "outputs": [],
   "source": [
    "param_max_features = ['auto', 'sqrt', 'log2']"
   ]
  },
  {
   "cell_type": "code",
   "execution_count": 19,
   "metadata": {},
   "outputs": [],
   "source": [
    "param_bootstrap = [True, False]"
   ]
  },
  {
   "cell_type": "code",
   "execution_count": 22,
   "metadata": {},
   "outputs": [],
   "source": [
    "rfc_param_grid = dict()\n",
    "rfc_param_grid['n_estimators'] = param_n_estimators\n",
    "rfc_param_grid['criterion'] = param_criterion\n",
    "rfc_param_grid['max_depth'] = param_max_depth\n",
    "rfc_param_grid['min_samples_split'] = param_min_samples_split\n",
    "rfc_param_grid['min_samples_leaf'] = param_min_samples_leaf\n",
    "rfc_param_grid['max_features'] = param_max_features\n",
    "rfc_param_grid['bootstrap'] = param_bootstrap"
   ]
  },
  {
   "cell_type": "code",
   "execution_count": 27,
   "metadata": {},
   "outputs": [],
   "source": [
    "dtc_param_grid = dict()\n",
    "\n",
    "dtc_param_grid['criterion'] = param_criterion\n",
    "dtc_param_grid['splitter'] = param_splitter\n",
    "dtc_param_grid['max_depth'] = param_max_depth\n",
    "dtc_param_grid['min_samples_leaf'] = param_min_samples_leaf\n",
    "dtc_param_grid['min_samples_split'] = param_min_samples_split\n",
    "dtc_param_grid['max_features'] = param_max_features"
   ]
  },
  {
   "cell_type": "code",
   "execution_count": 29,
   "metadata": {},
   "outputs": [],
   "source": [
    "def model_param_selector(model_name):\n",
    "    if model_name == 'dtc':\n",
    "        return dtc_param_grid\n",
    "    elif model_name == 'rfc':\n",
    "        return rfc_param_grid"
   ]
  },
  {
   "cell_type": "code",
   "execution_count": 30,
   "metadata": {},
   "outputs": [
    {
     "data": {
      "text/plain": [
       "{'criterion': ['gini', 'entropy'],\n",
       " 'splitter': ['best', 'random'],\n",
       " 'max_depth': [10,\n",
       "  14,\n",
       "  19,\n",
       "  24,\n",
       "  29,\n",
       "  34,\n",
       "  39,\n",
       "  44,\n",
       "  48,\n",
       "  53,\n",
       "  58,\n",
       "  63,\n",
       "  68,\n",
       "  73,\n",
       "  78,\n",
       "  83,\n",
       "  87,\n",
       "  92,\n",
       "  97,\n",
       "  102,\n",
       "  107,\n",
       "  112,\n",
       "  117,\n",
       "  122,\n",
       "  126,\n",
       "  131,\n",
       "  136,\n",
       "  141,\n",
       "  146,\n",
       "  151,\n",
       "  156,\n",
       "  161,\n",
       "  165,\n",
       "  170,\n",
       "  175,\n",
       "  180,\n",
       "  185,\n",
       "  190,\n",
       "  195,\n",
       "  200],\n",
       " 'min_samples_leaf': [1, 4, 7, 10, 13, 17, 20, 23, 26, 30],\n",
       " 'min_samples_split': [2, 5, 8, 11, 14, 17, 20, 23, 26, 30],\n",
       " 'max_features': ['auto', 'sqrt', 'log2']}"
      ]
     },
     "execution_count": 30,
     "metadata": {},
     "output_type": "execute_result"
    }
   ],
   "source": [
    "model_param_selector('dtc')"
   ]
  },
  {
   "cell_type": "code",
   "execution_count": 1,
   "metadata": {},
   "outputs": [],
   "source": [
    "import sys"
   ]
  },
  {
   "cell_type": "code",
   "execution_count": 2,
   "metadata": {},
   "outputs": [],
   "source": [
    "sys.path.append(\"..\")"
   ]
  },
  {
   "cell_type": "code",
   "execution_count": 3,
   "metadata": {},
   "outputs": [],
   "source": [
    "from src.utils.get_model_params import model_param_selector"
   ]
  },
  {
   "cell_type": "code",
   "execution_count": 4,
   "metadata": {},
   "outputs": [
    {
     "data": {
      "text/plain": [
       "{'criterion': ['gini', 'entropy'],\n",
       " 'splitter': ['best', 'random'],\n",
       " 'max_depth': [10,\n",
       "  14,\n",
       "  19,\n",
       "  24,\n",
       "  29,\n",
       "  34,\n",
       "  39,\n",
       "  44,\n",
       "  48,\n",
       "  53,\n",
       "  58,\n",
       "  63,\n",
       "  68,\n",
       "  73,\n",
       "  78,\n",
       "  83,\n",
       "  87,\n",
       "  92,\n",
       "  97,\n",
       "  102,\n",
       "  107,\n",
       "  112,\n",
       "  117,\n",
       "  122,\n",
       "  126,\n",
       "  131,\n",
       "  136,\n",
       "  141,\n",
       "  146,\n",
       "  151,\n",
       "  156,\n",
       "  161,\n",
       "  165,\n",
       "  170,\n",
       "  175,\n",
       "  180,\n",
       "  185,\n",
       "  190,\n",
       "  195,\n",
       "  200],\n",
       " 'min_samples_leaf': [1, 4, 7, 10, 13, 17, 20, 23, 26, 30],\n",
       " 'min_samples_split': [2, 5, 8, 11, 14, 17, 20, 23, 26, 30],\n",
       " 'max_features': ['auto', 'sqrt', 'log2']}"
      ]
     },
     "execution_count": 4,
     "metadata": {},
     "output_type": "execute_result"
    }
   ],
   "source": [
    "model_param_selector('dtc')"
   ]
  },
  {
   "cell_type": "code",
   "execution_count": null,
   "metadata": {},
   "outputs": [],
   "source": []
  }
 ],
 "metadata": {
  "kernelspec": {
   "display_name": "Python 3",
   "language": "python",
   "name": "python3"
  },
  "language_info": {
   "codemirror_mode": {
    "name": "ipython",
    "version": 3
   },
   "file_extension": ".py",
   "mimetype": "text/x-python",
   "name": "python",
   "nbconvert_exporter": "python",
   "pygments_lexer": "ipython3",
   "version": "3.8.5"
  }
 },
 "nbformat": 4,
 "nbformat_minor": 1
}
